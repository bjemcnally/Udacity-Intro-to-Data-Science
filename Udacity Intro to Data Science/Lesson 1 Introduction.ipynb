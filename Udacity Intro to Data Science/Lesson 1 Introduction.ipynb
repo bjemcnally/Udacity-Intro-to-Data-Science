{
 "cells": [
  {
   "cell_type": "code",
   "execution_count": 1,
   "id": "2ad1dd46",
   "metadata": {},
   "outputs": [
    {
     "data": {
      "text/plain": [
       "3.0"
      ]
     },
     "execution_count": 1,
     "metadata": {},
     "output_type": "execute_result"
    }
   ],
   "source": [
    "import numpy\n",
    "#Numpy, multidimensional arrays + matrices and math functions\n",
    "#array is like a list except everything must be same type (int, float, str)\n",
    "numbers = [1, 2, 3, 4, 5]\n",
    "#to calculate average\n",
    "numpy.mean(numbers)"
   ]
  },
  {
   "cell_type": "code",
   "execution_count": 2,
   "id": "17c13f65",
   "metadata": {},
   "outputs": [
    {
     "data": {
      "text/plain": [
       "3.0"
      ]
     },
     "execution_count": 2,
     "metadata": {},
     "output_type": "execute_result"
    }
   ],
   "source": [
    "#to calculate median\n",
    "numpy.median(numbers)"
   ]
  },
  {
   "cell_type": "code",
   "execution_count": 3,
   "id": "0f8723a3",
   "metadata": {},
   "outputs": [
    {
     "data": {
      "text/plain": [
       "1.4142135623730951"
      ]
     },
     "execution_count": 3,
     "metadata": {},
     "output_type": "execute_result"
    }
   ],
   "source": [
    "#to calculate std dev\n",
    "numpy.std(numbers)"
   ]
  },
  {
   "cell_type": "code",
   "execution_count": 4,
   "id": "7d844556",
   "metadata": {},
   "outputs": [
    {
     "name": "stdout",
     "output_type": "stream",
     "text": [
      "[1. 2. 3. 4. 5.]\n",
      "[[1 2 3]\n",
      " [4 5 6]]\n"
     ]
    }
   ],
   "source": [
    "#numby array can be 1D\n",
    "array = numpy.array([1, 2, 3, 4, 5], float)\n",
    "print (array)\n",
    "#or 2D\n",
    "array_2D = numpy.array([[1, 2, 3], [4, 5, 6]])\n",
    "print (array_2D)"
   ]
  },
  {
   "cell_type": "code",
   "execution_count": 5,
   "id": "bd620246",
   "metadata": {},
   "outputs": [
    {
     "name": "stdout",
     "output_type": "stream",
     "text": [
      "[ 9 12 15]\n",
      "1\n"
     ]
    }
   ],
   "source": [
    "#you can index, slice, and manipulate Numpy arrays as you would Python lists\n",
    "#also add, subtract, multiply, and dot product\n",
    "smaller_array = numpy.array([1, 2])\n",
    "print (numpy.dot(smaller_array, array_2D))\n",
    "print (smaller_array[0])"
   ]
  },
  {
   "cell_type": "code",
   "execution_count": 6,
   "id": "4bea10e5",
   "metadata": {},
   "outputs": [
    {
     "name": "stdout",
     "output_type": "stream",
     "text": [
      "     name  age\n",
      "a      JD    6\n",
      "b     Dan    4\n",
      "c  Maddie    2\n"
     ]
    }
   ],
   "source": [
    "import pandas as pd\n",
    "#Pandas dataframe = 2D labeled structure with columns which can contain different types\n",
    "#like a spreadsheet\n",
    "#to create a dataframe: create a Python dictionary (d) of key:value pairs where each key is name of\n",
    "#column and corresponding value is a Python Series +/- and array of indexes\n",
    "d = {\n",
    "    'name': pd.Series(['JD', 'Dan', 'Maddie'], \n",
    "            index = ['a', 'b', 'c']),\n",
    "    'age': pd.Series([6, 4, 2], \n",
    "            index = ['a', 'b', 'c'])}\n",
    "#once you've created the dictionary, pass as argument to DataFrame function \n",
    "df = pd.DataFrame(d)\n",
    "print(df)"
   ]
  },
  {
   "cell_type": "code",
   "execution_count": 7,
   "id": "b100b2be",
   "metadata": {},
   "outputs": [
    {
     "name": "stdout",
     "output_type": "stream",
     "text": [
      "Dave\n",
      "first    Dave\n",
      "dtype: object\n"
     ]
    }
   ],
   "source": [
    "#Series is a 1D object similar to an array, list, or column\n",
    "#by default will assign an index label from 0-N (where N = length-1)\n",
    "series = pd.Series(['Dave', 'Thomas'],\n",
    "            index = ['first', 'last'])\n",
    "print (series['first'])\n",
    "print (series[['first']])"
   ]
  },
  {
   "cell_type": "code",
   "execution_count": 8,
   "id": "6b8b4746",
   "metadata": {},
   "outputs": [
    {
     "name": "stdout",
     "output_type": "stream",
     "text": [
      "cockroach    False\n",
      "pig          False\n",
      "kitten        True\n",
      "dtype: bool\n",
      "kitten    5\n",
      "dtype: int64\n"
     ]
    }
   ],
   "source": [
    "#You can also use Boolean operators to select specific items from a Series\n",
    "cuteness = pd.Series([1, 3, 5], \n",
    "                index = ['cockroach', 'pig', 'kitten'])\n",
    "print(cuteness > 3)\n",
    "print(cuteness[cuteness >3])"
   ]
  },
  {
   "cell_type": "code",
   "execution_count": 9,
   "id": "0bce3c65",
   "metadata": {},
   "outputs": [
    {
     "name": "stdout",
     "output_type": "stream",
     "text": [
      "   year   team  wins  losses\n",
      "0  2010  Bears    11       5\n",
      "1  2011  Bears     8       8\n",
      "2  2012  Bears    10       6\n"
     ]
    }
   ],
   "source": [
    "#DataFrame has rows and cols, to create one pass a dictionary of lists to DataFrame constructor\n",
    "data = {'year': [2010, 2011, 2012],\n",
    "        'team': ['Bears', 'Bears', 'Bears'],\n",
    "        'wins': [11, 8, 10],\n",
    "        'losses': [5, 8, 6]}\n",
    "football = pd.DataFrame(data)\n",
    "print(football)"
   ]
  },
  {
   "cell_type": "code",
   "execution_count": 10,
   "id": "949f1cca",
   "metadata": {},
   "outputs": [
    {
     "name": "stdout",
     "output_type": "stream",
     "text": [
      "year       int64\n",
      "team      object\n",
      "wins       int64\n",
      "losses     int64\n",
      "dtype: object\n"
     ]
    }
   ],
   "source": [
    "#Pandas has funcs to show baed info about DataFrame\n",
    "#1) dtypes, gives datatype by column\n",
    "print(football.dtypes)"
   ]
  },
  {
   "cell_type": "code",
   "execution_count": 11,
   "id": "b5987632",
   "metadata": {},
   "outputs": [
    {
     "name": "stdout",
     "output_type": "stream",
     "text": [
      "         year       wins    losses\n",
      "count     3.0   3.000000  3.000000\n",
      "mean   2011.0   9.666667  6.333333\n",
      "std       1.0   1.527525  1.527525\n",
      "min    2010.0   8.000000  5.000000\n",
      "25%    2010.5   9.000000  5.500000\n",
      "50%    2011.0  10.000000  6.000000\n",
      "75%    2011.5  10.500000  7.000000\n",
      "max    2012.0  11.000000  8.000000\n"
     ]
    }
   ],
   "source": [
    "#2) describe(), basic stats from numerical data\n",
    "print(football.describe())"
   ]
  },
  {
   "cell_type": "code",
   "execution_count": 12,
   "id": "85c3d143",
   "metadata": {},
   "outputs": [
    {
     "name": "stdout",
     "output_type": "stream",
     "text": [
      "   year   team  wins  losses\n",
      "0  2010  Bears    11       5\n",
      "1  2011  Bears     8       8\n",
      "2  2012  Bears    10       6\n"
     ]
    }
   ],
   "source": [
    "#3) head() displays first 5 rows\n",
    "#4) tail() displays last 5 rows\n",
    "print(football.head())"
   ]
  },
  {
   "cell_type": "code",
   "execution_count": 13,
   "id": "ce7b06ae",
   "metadata": {},
   "outputs": [
    {
     "name": "stdout",
     "output_type": "stream",
     "text": [
      "0    2010\n",
      "1    2011\n",
      "2    2012\n",
      "Name: year, dtype: int64\n",
      "\n",
      "0    2010\n",
      "1    2011\n",
      "2    2012\n",
      "Name: year, dtype: int64\n"
     ]
    }
   ],
   "source": [
    "#DataFrame columns: operate on a specific column by calling on them as if a key in a dictionary\n",
    "#both examples below yield the same result\n",
    "print(football['year']) \n",
    "print('')\n",
    "print(football.year)"
   ]
  },
  {
   "cell_type": "code",
   "execution_count": 14,
   "id": "464194f9",
   "metadata": {},
   "outputs": [
    {
     "name": "stdout",
     "output_type": "stream",
     "text": [
      "   year   team\n",
      "0  2010  Bears\n",
      "1  2011  Bears\n",
      "2  2012  Bears\n"
     ]
    }
   ],
   "source": [
    "#can also pass list of column names\n",
    "print(football[['year', 'team']])"
   ]
  },
  {
   "cell_type": "code",
   "execution_count": 15,
   "id": "0820e8f1",
   "metadata": {},
   "outputs": [
    {
     "name": "stdout",
     "output_type": "stream",
     "text": [
      "year       2010\n",
      "team      Bears\n",
      "wins         11\n",
      "losses        5\n",
      "Name: 0, dtype: object\n"
     ]
    }
   ],
   "source": [
    "#Dataframe rows: use .loc method to call a specific row with row index as an argument\n",
    "#either default row index (#) or assigned index\n",
    "print (football.loc[0])"
   ]
  },
  {
   "cell_type": "code",
   "execution_count": 17,
   "id": "83b7fa57",
   "metadata": {},
   "outputs": [
    {
     "name": "stdout",
     "output_type": "stream",
     "text": [
      "   year   team  wins  losses\n",
      "0  2010  Bears    11       5\n",
      "2  2012  Bears    10       6\n"
     ]
    }
   ],
   "source": [
    "#to subset the DataFrame, use True/False statements regarding columns\n",
    "print (football[football['wins'] >= 10])"
   ]
  },
  {
   "cell_type": "code",
   "execution_count": 19,
   "id": "a9685d92",
   "metadata": {},
   "outputs": [
    {
     "name": "stdout",
     "output_type": "stream",
     "text": [
      "0    Bears\n",
      "2    Bears\n",
      "Name: team, dtype: object\n"
     ]
    }
   ],
   "source": [
    "#subset columns AND rows\n",
    "print (football['team'][football['wins'] >= 10])\n",
    "#in the above ['team'] is column of choice to show and ['wins'] tells which rows"
   ]
  },
  {
   "cell_type": "code",
   "execution_count": 24,
   "id": "baa85079",
   "metadata": {},
   "outputs": [
    {
     "name": "stdout",
     "output_type": "stream",
     "text": [
      "year       2010\n",
      "team      Bears\n",
      "wins         11\n",
      "losses        5\n",
      "Name: 0, dtype: object\n",
      "year       2010\n",
      "team      Bears\n",
      "wins         11\n",
      "losses        5\n",
      "Name: 0, dtype: object\n"
     ]
    }
   ],
   "source": [
    "#Indexing DataFrames, dataframes as a groups of Series (columns) that share an Index (rows)\n",
    "#important to remember:\n",
    "#1) selecting a col will return a Series\n",
    "#2) selecting multiple col with return a dataframe\n",
    "#3) row selection can be done in multiple ways: slicing, index (.loc or .iloc), Boolean indexing (plus & and/or |)\n",
    "print (football.iloc[0]) #.iloc is by location\n",
    "print (football.loc[0]) #.loc is by index label (if assigned)"
   ]
  },
  {
   "cell_type": "code",
   "execution_count": 26,
   "id": "f5dbad8e",
   "metadata": {},
   "outputs": [
    {
     "name": "stdout",
     "output_type": "stream",
     "text": [
      "   one  two\n",
      "a  1.0    1\n",
      "b  2.0    2\n",
      "c  3.0    3\n",
      "d  NaN    4\n"
     ]
    }
   ],
   "source": [
    "#Vectorized Methods\n",
    "#vector could be every single column\n",
    "d = {'one': pd.Series([1, 2, 3], index = ['a', 'b', 'c']), \n",
    "     'two': pd.Series([1, 2, 3, 4], index = ['a', 'b', 'c', 'd'])}\n",
    "df = pd.DataFrame(d)\n",
    "print (df)"
   ]
  },
  {
   "cell_type": "code",
   "execution_count": 28,
   "id": "8f7e1a47",
   "metadata": {},
   "outputs": [
    {
     "name": "stdout",
     "output_type": "stream",
     "text": [
      "one    2.0\n",
      "two    2.5\n",
      "dtype: float64\n"
     ]
    }
   ],
   "source": [
    "#apply() method example\n",
    "print (df.apply(numpy.mean)) #returns mean of EVERY column"
   ]
  },
  {
   "cell_type": "code",
   "execution_count": 30,
   "id": "976eb4e1",
   "metadata": {},
   "outputs": [
    {
     "name": "stdout",
     "output_type": "stream",
     "text": [
      "a     True\n",
      "b     True\n",
      "c     True\n",
      "d    False\n",
      "Name: one, dtype: bool\n"
     ]
    }
   ],
   "source": [
    "#use .map to specify particular columns\n",
    "print (df['one'].map(lambda x: x >= 1))\n",
    "#evaluates if value in 'one' column is >= 1 and returns True/False"
   ]
  },
  {
   "cell_type": "code",
   "execution_count": 32,
   "id": "ef502e99",
   "metadata": {},
   "outputs": [
    {
     "name": "stdout",
     "output_type": "stream",
     "text": [
      "     one   two\n",
      "a   True  True\n",
      "b   True  True\n",
      "c   True  True\n",
      "d  False  True\n"
     ]
    }
   ],
   "source": [
    "print(df.applymap(lambda x: x >= 1))\n",
    "#evaluates ALL values in DataFrame"
   ]
  },
  {
   "cell_type": "code",
   "execution_count": 34,
   "id": "318650c7",
   "metadata": {},
   "outputs": [
    {
     "name": "stdout",
     "output_type": "stream",
     "text": [
      "32\n"
     ]
    }
   ],
   "source": [
    "#Matrix Multiplication and Numpt Dot\n",
    "#numpy.dot allows to take the dot product between two vectors\n",
    "a = [1, 2, 3]\n",
    "b = [4, 5, 6]\n",
    "print (numpy.dot(a, b)) #returns 1x4 + 2x5 + 3x6 = 4 + 10 + 18 = 32"
   ]
  },
  {
   "cell_type": "code",
   "execution_count": 37,
   "id": "2ba73562",
   "metadata": {},
   "outputs": [
    {
     "name": "stdout",
     "output_type": "stream",
     "text": [
      "[1, 2]\n",
      "[[2, 4, 6], [3, 5, 7]]\n",
      "[ 8 14 20]\n"
     ]
    }
   ],
   "source": [
    "#can also use numpy.dot to multiply arrays into matrices\n",
    "c = [1, 2]\n",
    "print (c)\n",
    "d = [[2, 4, 6], [3, 5, 7]]\n",
    "print (d)\n",
    "print (numpy.dot(c, d)) #returns 1 x each first row of c + 2 x each second row:\n",
    "#(1x2 + 2x3) = 2 + 6 = 8\n",
    "#(1x4 + 2x5) = 4 + 10 = 14\n",
    "#(1x6 + 2x7) = 6 + 14 = 20"
   ]
  },
  {
   "cell_type": "code",
   "execution_count": 42,
   "id": "01aa4057",
   "metadata": {},
   "outputs": [
    {
     "name": "stdout",
     "output_type": "stream",
     "text": [
      "      country_name  points\n",
      "0     Russian Fed.      83\n",
      "1           Norway      64\n",
      "2           Canada      65\n",
      "3    United States      62\n",
      "4      Netherlands      55\n",
      "5          Germany      49\n",
      "6      Switzerland      32\n",
      "7          Belarus      21\n",
      "8          Austria      37\n",
      "9           France      31\n",
      "10          Poland      19\n",
      "11           China      22\n",
      "12           Korea      20\n",
      "13          Sweden      28\n",
      "14  Czech Republic      18\n",
      "15        Slovenia      16\n",
      "16           Japan      15\n",
      "17         Finland      11\n",
      "18   Great Britain       8\n",
      "19         Ukraine       5\n",
      "20        Slovakia       4\n",
      "21           Italy      10\n",
      "22          Latvia       6\n",
      "23       Australia       5\n",
      "24         Croatia       2\n",
      "25      Kazakhstan       1\n"
     ]
    }
   ],
   "source": [
    "#from \"Olympic Medals Points\"\n",
    "\n",
    "'''\n",
    "Imagine a point system in which each country is awarded 4 points for each\n",
    "gold medal,  2 points for each silver medal, and one point for each \n",
    "bronze medal.  \n",
    "\n",
    "Using the numpy.dot function, create a new dataframe called \n",
    "'olympic_points_df' that includes:\n",
    "    a) a column called 'country_name' with the country name\n",
    "    b) a column called 'points' with the total number of points the country\n",
    "       earned at the Sochi olympics.\n",
    "\n",
    "You do not need to call the function in your code when running it in the\n",
    "browser - the grader will do that automatically when you submit or test it.\n",
    "'''\n",
    "\n",
    "countries = ['Russian Fed.', 'Norway', 'Canada', 'United States',\n",
    "             'Netherlands', 'Germany', 'Switzerland', 'Belarus',\n",
    "             'Austria', 'France', 'Poland', 'China', 'Korea', \n",
    "             'Sweden', 'Czech Republic', 'Slovenia', 'Japan',\n",
    "             'Finland', 'Great Britain', 'Ukraine', 'Slovakia',\n",
    "             'Italy', 'Latvia', 'Australia', 'Croatia', 'Kazakhstan']\n",
    "\n",
    "gold = [13, 11, 10, 9, 8, 8, 6, 5, 4, 4, 4, 3, 3, 2, 2, 2, 1, 1, 1, 1, 1, 0, 0, 0, 0, 0]\n",
    "silver = [11, 5, 10, 7, 7, 6, 3, 0, 8, 4, 1, 4, 3, 7, 4, 2, 4, 3, 1, 0, 0, 2, 2, 2, 1, 0]\n",
    "bronze = [9, 10, 5, 12, 9, 5, 2, 1, 5, 7, 1, 2, 2, 6, 2, 4, 3, 1, 2, 1, 0, 6, 2, 1, 0, 1]\n",
    "\n",
    "point_breakdown = [4, 2, 1] #points per medal type\n",
    "points = numpy.dot(point_breakdown, (gold, silver, bronze)) #dot product points per medal type and number of each type\n",
    "olympics_data = {'country_name': countries, #new dictionary\n",
    "                 'points': points}\n",
    "olympic_points_df = pd.DataFrame(olympics_data) #create dataframe\n",
    "print (olympic_points_df)"
   ]
  },
  {
   "cell_type": "code",
   "execution_count": null,
   "id": "87d80960",
   "metadata": {},
   "outputs": [],
   "source": []
  }
 ],
 "metadata": {
  "kernelspec": {
   "display_name": "Python 3 (ipykernel)",
   "language": "python",
   "name": "python3"
  },
  "language_info": {
   "codemirror_mode": {
    "name": "ipython",
    "version": 3
   },
   "file_extension": ".py",
   "mimetype": "text/x-python",
   "name": "python",
   "nbconvert_exporter": "python",
   "pygments_lexer": "ipython3",
   "version": "3.8.10"
  }
 },
 "nbformat": 4,
 "nbformat_minor": 5
}
