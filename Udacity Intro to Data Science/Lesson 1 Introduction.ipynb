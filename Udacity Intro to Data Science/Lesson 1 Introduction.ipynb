{
 "cells": [
  {
   "cell_type": "code",
   "execution_count": 3,
   "id": "2ad1dd46",
   "metadata": {},
   "outputs": [
    {
     "data": {
      "text/plain": [
       "3.0"
      ]
     },
     "execution_count": 3,
     "metadata": {},
     "output_type": "execute_result"
    }
   ],
   "source": [
    "import numpy\n",
    "#Numpy, multidimensional arrays + matrices and math functions\n",
    "#array is like a list except everything must be same type (int, float, str)\n",
    "numbers = [1, 2, 3, 4, 5]\n",
    "#to calculate average\n",
    "numpy.mean(numbers)"
   ]
  },
  {
   "cell_type": "code",
   "execution_count": 4,
   "id": "17c13f65",
   "metadata": {},
   "outputs": [
    {
     "data": {
      "text/plain": [
       "3.0"
      ]
     },
     "execution_count": 4,
     "metadata": {},
     "output_type": "execute_result"
    }
   ],
   "source": [
    "#to calculate median\n",
    "numpy.median(numbers)"
   ]
  },
  {
   "cell_type": "code",
   "execution_count": 7,
   "id": "0f8723a3",
   "metadata": {},
   "outputs": [
    {
     "data": {
      "text/plain": [
       "1.4142135623730951"
      ]
     },
     "execution_count": 7,
     "metadata": {},
     "output_type": "execute_result"
    }
   ],
   "source": [
    "#to calculate std dev\n",
    "numpy.std(numbers)"
   ]
  },
  {
   "cell_type": "code",
   "execution_count": 11,
   "id": "7d844556",
   "metadata": {},
   "outputs": [
    {
     "name": "stdout",
     "output_type": "stream",
     "text": [
      "[1. 2. 3. 4. 5.]\n",
      "[[1 2 3]\n",
      " [4 5 6]]\n"
     ]
    }
   ],
   "source": [
    "#numby array can be 1D\n",
    "array = numpy.array([1, 2, 3, 4, 5], float)\n",
    "print (array)\n",
    "#or 2D\n",
    "array_2D = numpy.array([[1, 2, 3], [4, 5, 6]])\n",
    "print (array_2D)"
   ]
  },
  {
   "cell_type": "code",
   "execution_count": 28,
   "id": "bd620246",
   "metadata": {},
   "outputs": [
    {
     "name": "stdout",
     "output_type": "stream",
     "text": [
      "[ 9 12 15]\n",
      "1\n"
     ]
    }
   ],
   "source": [
    "#you can index, slice, and manipulate Numpy arrays as you would Python lists\n",
    "#also add, subtract, multiply, and dot product\n",
    "smaller_array = numpy.array([1, 2])\n",
    "print (numpy.dot(smaller_array, array_2D))\n",
    "print (smaller_array[0])"
   ]
  },
  {
   "cell_type": "code",
   "execution_count": 25,
   "id": "4bea10e5",
   "metadata": {},
   "outputs": [
    {
     "name": "stdout",
     "output_type": "stream",
     "text": [
      "     name  age\n",
      "a      JD    6\n",
      "b     Dan    4\n",
      "c  Maddie    2\n"
     ]
    }
   ],
   "source": [
    "import pandas as pd\n",
    "#Pandas dataframe = 2D labeled structure with columns which can contain different types\n",
    "#like a spreadsheet\n",
    "#to create a dataframe: create a Python dictionary (d) of key:value pairs where each key is name of\n",
    "#column and corresponding value is a Python Series +/- and array of indexes\n",
    "d = {\n",
    "    'name': pd.Series(['JD', 'Dan', 'Maddie'], \n",
    "            index = ['a', 'b', 'c']),\n",
    "    'age': pd.Series([6, 4, 2], \n",
    "            index = ['a', 'b', 'c'])}\n",
    "#once you've created the dictionary, pass as argument to DataFrame function \n",
    "df = pd.DataFrame(d)\n",
    "print(df)"
   ]
  },
  {
   "cell_type": "code",
   "execution_count": 32,
   "id": "b100b2be",
   "metadata": {},
   "outputs": [
    {
     "name": "stdout",
     "output_type": "stream",
     "text": [
      "Dave\n",
      "first    Dave\n",
      "dtype: object\n"
     ]
    }
   ],
   "source": [
    "#Series is a 1D object similar to an array, list, or column\n",
    "#by default will assign an index label from 0-N (where N = length-1)\n",
    "series = pd.Series(['Dave', 'Thomas'],\n",
    "            index = ['first', 'last'])\n",
    "print (series['first'])\n",
    "print (series[['first']])"
   ]
  },
  {
   "cell_type": "code",
   "execution_count": 36,
   "id": "6b8b4746",
   "metadata": {},
   "outputs": [
    {
     "name": "stdout",
     "output_type": "stream",
     "text": [
      "cockroach    False\n",
      "pig          False\n",
      "kitten        True\n",
      "dtype: bool\n",
      "kitten    5\n",
      "dtype: int64\n"
     ]
    }
   ],
   "source": [
    "#You can also use Boolean operators to select specific items from a Series\n",
    "cuteness = pd.Series([1, 3, 5], \n",
    "                index = ['cockroach', 'pig', 'kitten'])\n",
    "print(cuteness > 3)\n",
    "print(cuteness[cuteness >3])"
   ]
  },
  {
   "cell_type": "code",
   "execution_count": 39,
   "id": "0bce3c65",
   "metadata": {},
   "outputs": [
    {
     "name": "stdout",
     "output_type": "stream",
     "text": [
      "   year   team  wins  losses\n",
      "0  2010  Bears    11       5\n",
      "1  2011  Bears     8       8\n",
      "2  2012  Bears    10       6\n"
     ]
    }
   ],
   "source": [
    "#DataFrame has rows and cols, to create one pass a dictionary of lists to DataFrame constructor\n",
    "data = {'year': [2010, 2011, 2012],\n",
    "        'team': ['Bears', 'Bears', 'Bears'],\n",
    "        'wins': [11, 8, 10],\n",
    "        'losses': [5, 8, 6]}\n",
    "football = pd.DataFrame(data)\n",
    "print(football)"
   ]
  },
  {
   "cell_type": "code",
   "execution_count": 40,
   "id": "949f1cca",
   "metadata": {},
   "outputs": [
    {
     "name": "stdout",
     "output_type": "stream",
     "text": [
      "year       int64\n",
      "team      object\n",
      "wins       int64\n",
      "losses     int64\n",
      "dtype: object\n"
     ]
    }
   ],
   "source": [
    "#Pandas has funcs to show baed info about DataFrame\n",
    "#1) dtypes, gives datatype by column\n",
    "print(football.dtypes)"
   ]
  },
  {
   "cell_type": "code",
   "execution_count": 42,
   "id": "b5987632",
   "metadata": {},
   "outputs": [
    {
     "name": "stdout",
     "output_type": "stream",
     "text": [
      "         year       wins    losses\n",
      "count     3.0   3.000000  3.000000\n",
      "mean   2011.0   9.666667  6.333333\n",
      "std       1.0   1.527525  1.527525\n",
      "min    2010.0   8.000000  5.000000\n",
      "25%    2010.5   9.000000  5.500000\n",
      "50%    2011.0  10.000000  6.000000\n",
      "75%    2011.5  10.500000  7.000000\n",
      "max    2012.0  11.000000  8.000000\n"
     ]
    }
   ],
   "source": [
    "#2) describe(), basic stats from numerical data\n",
    "print(football.describe())"
   ]
  },
  {
   "cell_type": "code",
   "execution_count": 43,
   "id": "85c3d143",
   "metadata": {},
   "outputs": [
    {
     "name": "stdout",
     "output_type": "stream",
     "text": [
      "   year   team  wins  losses\n",
      "0  2010  Bears    11       5\n",
      "1  2011  Bears     8       8\n",
      "2  2012  Bears    10       6\n"
     ]
    }
   ],
   "source": [
    "#3) head() displays first 5 rows\n",
    "#4) tail() displays last 5 rows\n",
    "print(football.head())"
   ]
  },
  {
   "cell_type": "code",
   "execution_count": 46,
   "id": "ce7b06ae",
   "metadata": {},
   "outputs": [
    {
     "name": "stdout",
     "output_type": "stream",
     "text": [
      "0    2010\n",
      "1    2011\n",
      "2    2012\n",
      "Name: year, dtype: int64\n",
      "\n",
      "0    2010\n",
      "1    2011\n",
      "2    2012\n",
      "Name: year, dtype: int64\n"
     ]
    }
   ],
   "source": [
    "#DataFrame columns: operate on a specific column by calling on them as if a key in a dictionary\n",
    "#both examples below yield the same result\n",
    "print(football['year']) \n",
    "print('')\n",
    "print(football.year)"
   ]
  },
  {
   "cell_type": "code",
   "execution_count": 50,
   "id": "464194f9",
   "metadata": {},
   "outputs": [
    {
     "name": "stdout",
     "output_type": "stream",
     "text": [
      "   year   team\n",
      "0  2010  Bears\n",
      "1  2011  Bears\n",
      "2  2012  Bears\n"
     ]
    }
   ],
   "source": [
    "#can also pass list of column names\n",
    "print(football[['year', 'team']])"
   ]
  },
  {
   "cell_type": "code",
   "execution_count": null,
   "id": "0820e8f1",
   "metadata": {},
   "outputs": [],
   "source": []
  }
 ],
 "metadata": {
  "kernelspec": {
   "display_name": "Python 3 (ipykernel)",
   "language": "python",
   "name": "python3"
  },
  "language_info": {
   "codemirror_mode": {
    "name": "ipython",
    "version": 3
   },
   "file_extension": ".py",
   "mimetype": "text/x-python",
   "name": "python",
   "nbconvert_exporter": "python",
   "pygments_lexer": "ipython3",
   "version": "3.8.10"
  }
 },
 "nbformat": 4,
 "nbformat_minor": 5
}
