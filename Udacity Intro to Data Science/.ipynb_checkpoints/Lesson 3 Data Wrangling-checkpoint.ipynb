{
 "cells": [
  {
   "cell_type": "markdown",
   "id": "10b0efd7",
   "metadata": {},
   "source": [
    "Data wrangling = extracting and cleaning, \"data munching\", data often incomplete and/or poorly formatted\n",
    "\n",
    "get data from files, databases, or websites through web APIs (ex gov websites)\n",
    "baseball http://www.SeanLahman.com/baseballarchives/statistics\n",
    "\n",
    "most common formats: CSV, XML, JSON (Access database, SQL)\n",
    "    filetype indicate how data is stored, not necessarily file extension (may just be .txt)\n",
    "    CSV, series of rows plus header row\n",
    "    XML, looks like HTML (kinda)\n",
    "    JSON, uses objects indicated by curly brackers {}, looks like a python dict (key:value)\n"
   ]
  },
  {
   "cell_type": "code",
   "execution_count": 1,
   "id": "a82d1864",
   "metadata": {},
   "outputs": [
    {
     "name": "stdout",
     "output_type": "stream",
     "text": [
      "0        290.0\n",
      "1        252.0\n",
      "2        265.0\n",
      "3        265.0\n",
      "4        257.0\n",
      "         ...  \n",
      "20365    253.0\n",
      "20366    245.0\n",
      "20367    271.0\n",
      "20368    226.0\n",
      "20369    265.0\n",
      "Name: height_plus_weight, Length: 20370, dtype: float64\n"
     ]
    }
   ],
   "source": [
    "#CSV Data\n",
    "\n",
    "import pandas as pd\n",
    "baseball_data = pd.read_csv('baseball.csv') #load CSV into dataframe\n",
    "\n",
    "#print (baseball_data.describe()) [wanted to check headers]\n",
    "\n",
    "#print (baseball_data['birthYear']) [print one column]\n",
    "\n",
    "#to create a new column from existing column's data:\n",
    "\n",
    "baseball_data['height_plus_weight'] = baseball_data['height'] + baseball_data['weight']\n",
    "\n",
    "#print (baseball_data['height_plus_weight']) [check that it worked]\n",
    "\n",
    "#to create new CSV that includes new col/results:\n",
    "\n",
    "baseball_data.to_csv('baseball_data_with_height_weight.csv')\n",
    "\n",
    "#check to see if it worked\n",
    "baseball_data_with_height_weight = pd.read_csv('baseball_data_with_height_weight.csv')\n",
    "print (baseball_data_with_height_weight['height_plus_weight'])\n"
   ]
  },
  {
   "cell_type": "code",
   "execution_count": null,
   "id": "849f3e58",
   "metadata": {},
   "outputs": [],
   "source": []
  }
 ],
 "metadata": {
  "kernelspec": {
   "display_name": "Python 3 (ipykernel)",
   "language": "python",
   "name": "python3"
  },
  "language_info": {
   "codemirror_mode": {
    "name": "ipython",
    "version": 3
   },
   "file_extension": ".py",
   "mimetype": "text/x-python",
   "name": "python",
   "nbconvert_exporter": "python",
   "pygments_lexer": "ipython3",
   "version": "3.8.10"
  }
 },
 "nbformat": 4,
 "nbformat_minor": 5
}
