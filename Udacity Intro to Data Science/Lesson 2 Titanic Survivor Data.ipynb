{
 "cells": [
  {
   "cell_type": "markdown",
   "id": "e44e80c2",
   "metadata": {},
   "source": [
    "In this exercise, we will perform some rudimentary practices similar to those of\n",
    "    an actual data scientist.\n",
    "    \n",
    "    Part of a data scientist's job is to use her or his intuition and insight to\n",
    "    write algorithms and heuristics. A data scientist also creates mathematical models \n",
    "    to make predictions based on some attributes from the data that they are examining.\n",
    "\n",
    "    We would like for you to take your knowledge and intuition about the Titanic\n",
    "    and its passengers' attributes to predict whether or not the passengers survived\n",
    "    or perished. You can read more about the Titanic and specifics about this dataset at:\n",
    "    http://en.wikipedia.org/wiki/RMS_Titanic\n",
    "    http://www.kaggle.com/c/titanic-gettingStarted\n",
    "        \n",
    "    In this exercise and the following ones, you are given a list of Titantic passengers\n",
    "    and their associated information. More information about the data can be seen at the \n",
    "    link below:\n",
    "    http://www.kaggle.com/c/titanic-gettingStarted/data. \n",
    "\n",
    "    For this exercise, you need to write a simple heuristic that will use\n",
    "    the passengers' gender to predict if that person survived the Titanic disaster.\n",
    "    \n",
    "    You prediction should be 78% accurate or higher.\n",
    "        \n",
    "    Here's a simple heuristic to start off:\n",
    "       1) If the passenger is female, your heuristic should assume that the\n",
    "       passenger survived.\n",
    "       2) If the passenger is male, you heuristic should\n",
    "       assume that the passenger did not survive.\n",
    "    \n",
    "    You can access the gender of a passenger via passenger['Sex'].\n",
    "    If the passenger is male, passenger['Sex'] will return a string \"male\".\n",
    "    If the passenger is female, passenger['Sex'] will return a string \"female\".\n",
    "\n",
    "    Write your prediction back into the \"predictions\" dictionary. The\n",
    "    key of the dictionary should be the passenger's id (which can be accessed\n",
    "    via passenger[\"PassengerId\"]) and the associated value should be 1 if the\n",
    "    passenger survied or 0 otherwise.\n",
    "\n",
    "    For example, if a passenger is predicted to have survived:\n",
    "    passenger_id = passenger['PassengerId']\n",
    "    predictions[passenger_id] = 1\n",
    "\n",
    "    And if a passenger is predicted to have perished in the disaster:\n",
    "    passenger_id = passenger['PassengerId']\n",
    "    predictions[passenger_id] = 0\n",
    "    \n",
    "    You can also look at the Titantic data that you will be working with\n",
    "    at the link below:\n",
    "    https://s3.amazonaws.com/content.udacity-data.com/courses/ud359/titanic_data.csv"
   ]
  },
  {
   "cell_type": "code",
   "execution_count": 24,
   "id": "3afa1d17",
   "metadata": {},
   "outputs": [],
   "source": [
    "import pandas as pd\n",
    "import numpy as np\n",
    "\n",
    "predictions = {} #create new empty dictionary for storing results\n",
    "df = pd.read_csv('titanic-data.csv') #read csv into new dataframe, df\n",
    "#print (df.loc[0]) confirm column names, etc.\n",
    "#DataFrame.iterrows is a generator, yields both the index & row (as a Series)\n",
    "#in this case passenger_index = index and passenger = row\n",
    "for passenger_index, passenger in df.iterrows(): \n",
    "        passenger_id = passenger['PassengerId'] #selecting the column to look at in each row and copying id from df to new dict key\n",
    "        if passenger['Sex'] == 'male': #selecting column to look at in each row\n",
    "            predictions[passenger_id] = 0 #matching each passenger id (key in predictions dict) to new value\n",
    "        elif passenger['Sex'] == 'female':\n",
    "            predictions[passenger_id] = 1 #matching each passenger id (key in predictions dict) to new value\n",
    "#this worked on Udacity (was >78% accurate at predicting survivors)"
   ]
  },
  {
   "cell_type": "code",
   "execution_count": null,
   "id": "408a22e1",
   "metadata": {},
   "outputs": [],
   "source": []
  }
 ],
 "metadata": {
  "kernelspec": {
   "display_name": "Python 3 (ipykernel)",
   "language": "python",
   "name": "python3"
  },
  "language_info": {
   "codemirror_mode": {
    "name": "ipython",
    "version": 3
   },
   "file_extension": ".py",
   "mimetype": "text/x-python",
   "name": "python",
   "nbconvert_exporter": "python",
   "pygments_lexer": "ipython3",
   "version": "3.8.10"
  }
 },
 "nbformat": 4,
 "nbformat_minor": 5
}
